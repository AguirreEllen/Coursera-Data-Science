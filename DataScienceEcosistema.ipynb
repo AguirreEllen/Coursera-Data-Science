{
 "cells": [
  {
   "cell_type": "markdown",
   "id": "d15c562e-282f-45da-8e8f-8a7e13b801bb",
   "metadata": {},
   "source": [
    "# Data Science Tools and Ecosystem"
   ]
  },
  {
   "cell_type": "markdown",
   "id": "2a12b0de-7368-4293-80f6-3bade4209dcd",
   "metadata": {},
   "source": [
    "# INTRODUCCION \n",
    "# En este cuaderno se resumen las herramientas y el ecosistema de ciencia de datos. "
   ]
  },
  {
   "cell_type": "markdown",
   "id": "454b9aef-073a-4ba2-8bec-d73a3ccdcb76",
   "metadata": {},
   "source": [
    "### Algunos de los lenguajes populares que utilizan los científicos de datos son:\n",
    "1. Python\n",
    "2. R\n",
    "3. SQL\n",
    "4. Julia\n",
    "5. Scala\n",
    "6. MATLAB\n",
    "7. Java (con bibliotecas como Weka)\n",
    "8. JavaScript (con bibliotecas como TensorFlow.js)\n"
   ]
  },
  {
   "cell_type": "markdown",
   "id": "a610ba0e-0739-4f06-8c7b-7f18593d938a",
   "metadata": {},
   "source": [
    "### ### Biblioteca de Ciencia de Datos:\n",
    "*Python: *\n",
    "-\n",
    "Pandas\n",
    "-\n",
    "NumPy\n",
    "-\n",
    "Matplotlib\n",
    "-\n",
    "Seaborn\n",
    "-\n",
    "Scikit-learn\n",
    "-\n",
    "TensorFlow\n",
    "-\n",
    "PyTorch\n",
    "*R:*\n",
    "-dplyr\n",
    "-\n",
    "ggplot2\n",
    "-\n",
    "-\n",
    "-\n",
    "caret\n",
    "tidyr\n",
    "lubricate\n",
    "*Julia: *\n",
    "-\n",
    "DataFrames.jl\n",
    "Plots.jl\n",
    "- Flux.jl"
   ]
  },
  {
   "cell_type": "markdown",
   "id": "2a0f516b-b146-43b0-b4c0-10c89ce3e0c4",
   "metadata": {},
   "source": [
    "| Data Science Tools       |\n",
    "|--------------------------|\n",
    "| Jupyter Notebooks         |\n",
    "| RStudio                   |\n",
    "| Apache Zeppelin           |\n",
    "| Spyder                    |\n",
    "| KNIME                     |\n",
    "| Apache Hadoop             |\n",
    "| TensorFlow                |"
   ]
  },
  {
   "cell_type": "markdown",
   "id": "31889b3f-6057-41a6-9867-605e44aa9b0d",
   "metadata": {},
   "source": [
    "Ejemplos de Expresiones Aritméticas\n",
    "- Suma: 6 + 5 = 11\n",
    "-\n",
    "Resta: 20 - 5 = 15\n",
    "-\n",
    "-\n",
    "Multiplicación: 4 * 9 = 36\n",
    "División: 15 / 3 = 5\n",
    "-\n",
    "Potenciación: 2*3 = 8\n",
    "-\n",
    "Raíz Cuadrada: V(9) = 3"
   ]
  },
  {
   "cell_type": "code",
   "execution_count": 13,
   "id": "1b7fe3fa-95a2-4210-ac40-3cb8258a9178",
   "metadata": {},
   "outputs": [
    {
     "data": {
      "text/plain": [
       "17"
      ]
     },
     "execution_count": 13,
     "metadata": {},
     "output_type": "execute_result"
    }
   ],
   "source": [
    "# Esta es una expresión aritmética simple para multiplicar y luego sumar números enteros.\n",
    "(3*4) + 5"
   ]
  },
  {
   "cell_type": "markdown",
   "id": "6e72bc4e-3534-4ce7-8d47-d809b79215b2",
   "metadata": {},
   "source": [
    "**Objetivos:**\n",
    "\n",
    "- Listar idiomas populares para ciencia de datos.\n",
    "- Describir herramientas comunes utilizadas en ciencia de datos.\n",
    "- Demostrar cómo realizar operaciones aritméticas en Python.\n",
    "- Explicar el propósito de Jupyter Notebooks.\n",
    "- Crear y ejecutar código Python en un entorno de notebook."
   ]
  },
  {
   "cell_type": "code",
   "execution_count": 14,
   "id": "0ee4fbc7-5d06-4cdb-887f-55971432f265",
   "metadata": {},
   "outputs": [
    {
     "data": {
      "text/plain": [
       "3.3333333333333335"
      ]
     },
     "execution_count": 14,
     "metadata": {},
     "output_type": "execute_result"
    }
   ],
   "source": [
    "# Esto convertirá 200 minutos en horas dividiendo por 60.\n",
    "200 / 60"
   ]
  },
  {
   "cell_type": "markdown",
   "id": "a6f3559d-668a-4f06-aa35-1155f9c25302",
   "metadata": {},
   "source": [
    "### Autor: \n",
    "el autor de este notebook es [Piero Aguirre Ellen]"
   ]
  },
  {
   "cell_type": "code",
   "execution_count": null,
   "id": "6b416e4c-29c3-408e-9479-c280c4659331",
   "metadata": {},
   "outputs": [],
   "source": []
  }
 ],
 "metadata": {
  "kernelspec": {
   "display_name": "Python 3 (ipykernel)",
   "language": "python",
   "name": "python3"
  },
  "language_info": {
   "codemirror_mode": {
    "name": "ipython",
    "version": 3
   },
   "file_extension": ".py",
   "mimetype": "text/x-python",
   "name": "python",
   "nbconvert_exporter": "python",
   "pygments_lexer": "ipython3",
   "version": "3.11.9"
  }
 },
 "nbformat": 4,
 "nbformat_minor": 5
}
